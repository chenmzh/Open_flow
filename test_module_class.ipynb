{
 "cells": [
  {
   "cell_type": "code",
   "execution_count": null,
   "metadata": {},
   "outputs": [],
   "source": [
    "import platform\n",
    "import PIL  # Pillow 包通常在 Python 中以 PIL 名称导入\n",
    "import jupyterlab\n",
    "import matplotlib\n",
    "import ipympl\n",
    "# 打印 Python 版本\n",
    "print(\"Python version:\", platform.python_version())\n",
    "\n",
    "# 打印 Pillow 版本\n",
    "print(\"Pillow version:\", PIL.__version__)\n",
    "\n",
    "# 打印 JupyterLab 版本\n",
    "print(\"JupyterLab version:\", jupyterlab.__version__)\n",
    "\n",
    "# 打印 matplotlib 版本\n",
    "print(\"matplotlib version:\", matplotlib.__version__)\n",
    "\n",
    "# 打印 ipympl 版本\n",
    "print(\"ipympl version:\", ipympl.__version__)\n",
    "\n",
    "\n",
    "# Python version: 3.10.16\n",
    "# Pillow version: 11.1.0\n",
    "# JupyterLab version: 4.3.5\n",
    "# matplotlib version: 3.10.0\n",
    "# ipympl version: 0.9.6\n"
   ]
  },
  {
   "cell_type": "code",
   "execution_count": null,
   "metadata": {},
   "outputs": [],
   "source": []
  }
 ],
 "metadata": {
  "kernelspec": {
   "display_name": "sci",
   "language": "python",
   "name": "python3"
  },
  "language_info": {
   "name": "python",
   "version": "3.10.16"
  }
 },
 "nbformat": 4,
 "nbformat_minor": 2
}
